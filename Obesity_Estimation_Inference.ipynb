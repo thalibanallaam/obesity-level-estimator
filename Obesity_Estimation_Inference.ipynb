{
  "cells": [
    {
      "cell_type": "markdown",
      "metadata": {
        "id": "FAa_ZwPDYqBa"
      },
      "source": [
        "# **INFERENCE MODEL P1M2**"
      ]
    },
    {
      "cell_type": "markdown",
      "metadata": {},
      "source": [
        "# **i. Introduction**"
      ]
    },
    {
      "cell_type": "markdown",
      "metadata": {
        "id": "HEhqB9QNYqBc"
      },
      "source": [
        "- **Name:** Thaliban Allaam\n",
        "- **Batch:** HCK - 025"
      ]
    },
    {
      "cell_type": "markdown",
      "metadata": {},
      "source": [
        "**Objective:** \n",
        "\n",
        "The goal is to create a machine learning model with the ability to predict an individual's obesity level based on their eating habits and physical condition. The algorithm used is XGBoost since it is currently one of the most accurate algorithms available which was proven in the cross-validation process.\n",
        "\n",
        "Since our case is associated with health-related concerns, we want to minimize false predictions as much as possible, especially false negatives. According to the cross-validation results, it shows that XGBoost has the highest recall score compared to the other model. Therefore, XGBoost was chosen for this case.\n",
        "\n",
        "**Problem Background:** \n",
        "\n",
        "Through this project, we analyze health-related factors to create a machine learning model that can predict an individual’s obesity level based on their physical condition and daily habits. In 2018, Indonesia had an obesity rate of 21.8% which is higher than the average world obesity rate of 12.5%. The Indonesian government plans to reduce this number to 3% by 2030. This machine learning model can help doctors and nutritionists in diagnosing their patients.\n",
        "\n",
        "**Data Overview:** \n",
        "\n",
        "The dataset contains information regarding an individual's obesity level based on their physical condition and daily habits. The people in the dataset represents people from Mexico, Peru, and Colombia. The data was collected through a web platform survey and the final result was a total of 2111 entries with 17 features. The features represents the individual's physical condition as well as their daily habits. The target is \"Obesity Level\" which is represented by NObesity in the original dataset and divided into seven different classes, including `Insufficient Weight`, `Normal Weight`, `Overweight Level I`, `Overweight Level II`, `Obesity Type I`, `Obesity Type II` and `Obesity Type III`."
      ]
    },
    {
      "cell_type": "markdown",
      "metadata": {},
      "source": [
        "# **ii. Import Libraries**"
      ]
    },
    {
      "cell_type": "markdown",
      "metadata": {},
      "source": [
        "In this section, we're going to import the libraries necessary for the inference process."
      ]
    },
    {
      "cell_type": "code",
      "execution_count": 123,
      "metadata": {
        "id": "FkYKiF1yYqBc"
      },
      "outputs": [],
      "source": [
        "# Import library\n",
        "import pickle\n",
        "import pandas as pd"
      ]
    },
    {
      "cell_type": "markdown",
      "metadata": {},
      "source": [
        "# **iii. File Loading**"
      ]
    },
    {
      "cell_type": "markdown",
      "metadata": {},
      "source": [
        "In this section, we're going to load the files containing the model."
      ]
    },
    {
      "cell_type": "code",
      "execution_count": 124,
      "metadata": {
        "id": "3J3_r_xYYqBd"
      },
      "outputs": [],
      "source": [
        "# Load model\n",
        "with open('xgb_model.pkl', 'rb') as file_1:\n",
        "  xgb_model = pickle.load(file_1)\n",
        "with open('ordinal_encoder.pkl', 'rb') as file_2:\n",
        "  ordinal_encoder = pickle.load(file_2)\n"
      ]
    },
    {
      "cell_type": "markdown",
      "metadata": {},
      "source": [
        "# **iv. New Data**"
      ]
    },
    {
      "cell_type": "markdown",
      "metadata": {},
      "source": [
        "In this section, we're going to input a new data that we will give to the model to be predicted."
      ]
    },
    {
      "cell_type": "code",
      "execution_count": 125,
      "metadata": {
        "id": "LrS9o7t8YqBd"
      },
      "outputs": [],
      "source": [
        "# Create new data\n",
        "data_inf = {\n",
        "    'Gender' : 'Male',\n",
        "    'Age' : 25,\n",
        "    'Height' : 170,\n",
        "    'Weight' : 65,\n",
        "    'Overweight Family History' : 'no',\n",
        "    'High Caloric Diet' : 'no',\n",
        "    'Vegetable Diet' : 'no',\n",
        "    'Meals per Day': '3',\n",
        "    'Snacking Between Meals': '2',\n",
        "    'Smoking': 'no',\n",
        "    'Daily Water Intake': '2',\n",
        "    'Monitor Calories': 'sometimes',\n",
        "    'Physical Activity': '1',\n",
        "    'Gadget Usage' : '1',\n",
        "    'Alcohol Intake' : 'no',\n",
        "    'Daily Transportation': 'Walking'\n",
        "    }\n",
        "\n",
        "# Convert data into dataframe\n",
        "data_inf = pd.DataFrame([data_inf])\n",
        "\n",
        "# Get columns list\n",
        "col_list = data_inf.columns.tolist()\n"
      ]
    },
    {
      "cell_type": "markdown",
      "metadata": {},
      "source": [
        "# **v. Prediction**"
      ]
    },
    {
      "cell_type": "markdown",
      "metadata": {},
      "source": [
        "Predict the results based on the new data."
      ]
    },
    {
      "cell_type": "code",
      "execution_count": 126,
      "metadata": {
        "colab": {
          "base_uri": "https://localhost:8080/",
          "height": 339
        },
        "id": "P3Gd0x1MYqBf",
        "outputId": "a343207b-8445-44b9-c4fb-247b614f641b"
      },
      "outputs": [
        {
          "data": {
            "text/plain": [
              "'Normal_Weight'"
            ]
          },
          "execution_count": 126,
          "metadata": {},
          "output_type": "execute_result"
        }
      ],
      "source": [
        "# Now use the selected features for prediction\n",
        "pred_inf = xgb_model.predict(data_inf)\n",
        "\n",
        "# Define categories for Ordinal Encoder\n",
        "categories = [['Insufficient_Weight', 'Normal_Weight', 'Overweight_Level_I', \n",
        "               'Overweight_Level_II', 'Obesity_Type_I', 'Obesity_Type_II', 'Obesity_Type_III']]\n",
        "\n",
        "# Reverse the encoded value to improve clarity\n",
        "pred_inf_reversed = ordinal_encoder.inverse_transform(pred_inf.reshape(-1, 1))\n",
        "\n",
        "#Result\n",
        "pred_inf_reversed[0][0]"
      ]
    }
  ],
  "metadata": {
    "colab": {
      "provenance": []
    },
    "kernelspec": {
      "display_name": "base",
      "language": "python",
      "name": "python3"
    },
    "language_info": {
      "codemirror_mode": {
        "name": "ipython",
        "version": 3
      },
      "file_extension": ".py",
      "mimetype": "text/x-python",
      "name": "python",
      "nbconvert_exporter": "python",
      "pygments_lexer": "ipython3",
      "version": "3.12.7"
    }
  },
  "nbformat": 4,
  "nbformat_minor": 0
}
